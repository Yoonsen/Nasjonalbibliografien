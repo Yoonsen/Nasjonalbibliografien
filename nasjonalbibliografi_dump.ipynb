{
 "cells": [
  {
   "cell_type": "markdown",
   "metadata": {},
   "source": [
    "# Fetch the national bibliography"
   ]
  },
  {
   "cell_type": "code",
   "execution_count": 9,
   "metadata": {
    "colab": {},
    "colab_type": "code",
    "id": "MUPdMWvqX1ii"
   },
   "outputs": [],
   "source": [
    "from bs4 import BeautifulSoup\n",
    "import requests\n",
    "from pathlib import Path"
   ]
  },
  {
   "cell_type": "code",
   "execution_count": 3,
   "metadata": {
    "colab": {},
    "colab_type": "code",
    "id": "2ET5suUIV7Zx"
   },
   "outputs": [],
   "source": [
    "nasjonalbiblio_dc = \"http://bibsys.alma.exlibrisgroup.com/view/oai/47BIBSYS_NETWORK/request?verb=ListRecords&metadataPrefix=oai_qdc&set=nasjonalbibliografien_dc\""
   ]
  },
  {
   "cell_type": "markdown",
   "metadata": {},
   "source": [
    "For writing through Chromeos:"
   ]
  },
  {
   "cell_type": "code",
   "execution_count": 11,
   "metadata": {},
   "outputs": [],
   "source": [
    "directory = \"/mnt/chromeos/GoogleDrive/MyDrive\""
   ]
  },
  {
   "cell_type": "markdown",
   "metadata": {},
   "source": [
    "### Different parameters\n",
    "\n"
   ]
  },
  {
   "cell_type": "code",
   "execution_count": 4,
   "metadata": {
    "colab": {},
    "colab_type": "code",
    "id": "ykysNTA5Wdzp"
   },
   "outputs": [],
   "source": [
    "# base URL for request\n",
    "\n",
    "alma_request = \"http://bibsys.alma.exlibrisgroup.com/view/oai/47BIBSYS_NETWORK/request?\"\n",
    "\n",
    "# various subsets, all marc21\n",
    "\n",
    "nasjonal_params = {'verb':'ListRecords','metadataPrefix':'marc21','set':'nasjonalbibliografien'}\n",
    "norbok_params = {'verb':'ListRecords','metadataPrefix':'marc21','set':'norbok'}\n",
    "nbdigital_params = {'verb':'ListRecords','metadataPrefix':'marc21','set':'NBdigital_ikke_periodica' }"
   ]
  },
  {
   "cell_type": "markdown",
   "metadata": {},
   "source": [
    "# function\n",
    "\n",
    "fetches a bibliography"
   ]
  },
  {
   "cell_type": "code",
   "execution_count": 5,
   "metadata": {
    "colab": {},
    "colab_type": "code",
    "id": "vSA9JvDkgNRg"
   },
   "outputs": [],
   "source": [
    "def get_nasjonalbibliografien(bib, params, filnavn):\n",
    "    batch = requests.get(bib, params)\n",
    "    soup = BeautifulSoup(batch.text)\n",
    "    rt = soup.find('resumptiontoken')\n",
    "    print(rt)\n",
    "    while rt != None:\n",
    "        with open(filnavn, \"a+\", encoding=\"utf-8\") as bibfile:\n",
    "            for n in soup.find_all('record', {'xmlns':\"http://www.loc.gov/MARC21/slim\"}):\n",
    "                bibfile.write(n.prettify())\n",
    "            batch = requests.get(bib, params = {'verb':'ListRecords', 'resumptionToken': rt.text}) \n",
    "            soup = BeautifulSoup(batch.text)\n",
    "            rt = soup.find('resumptiontoken')\n",
    "    return True\n",
    "    \n"
   ]
  },
  {
   "cell_type": "markdown",
   "metadata": {},
   "source": [
    "## Fetch all of the bibliography - this takes some time"
   ]
  },
  {
   "cell_type": "code",
   "execution_count": 7,
   "metadata": {
    "colab": {
     "base_uri": "https://localhost:8080/",
     "height": 69
    },
    "colab_type": "code",
    "executionInfo": {
     "elapsed": 1532,
     "status": "ok",
     "timestamp": 1576703265191,
     "user": {
      "displayName": "Lars Johnsen",
      "photoUrl": "https://lh3.googleusercontent.com/a-/AAuE7mDF-7-cjEku4XPs584I5CP4KQI62ub-Cmep7DtZGNw=s64",
      "userId": "09499284895958781434"
     },
     "user_tz": -60
    },
    "id": "145tLkhQjd2f",
    "outputId": "5790b3a2-865b-4e9c-cff5-ddc7119a64bc",
    "tags": []
   },
   "outputs": [],
   "source": [
    "#get_nasjonalbibliografien(alma_request, norbok_params, \"nasjonalbibliografien.xml\")"
   ]
  },
  {
   "cell_type": "code",
   "execution_count": 12,
   "metadata": {},
   "outputs": [
    {
     "data": {
      "text/plain": [
       "PosixPath('/mnt/chromeos/GoogleDrive/MyDrive/nasjonalbibliografien_2022.xml')"
      ]
     },
     "execution_count": 12,
     "metadata": {},
     "output_type": "execute_result"
    }
   ],
   "source": [
    "filename = Path(directory, \"nasjonalbibliografien_2022.xml\")\n",
    "filename"
   ]
  },
  {
   "cell_type": "code",
   "execution_count": null,
   "metadata": {
    "colab": {
     "base_uri": "https://localhost:8080/",
     "height": 69
    },
    "colab_type": "code",
    "executionInfo": {
     "elapsed": 1532,
     "status": "ok",
     "timestamp": 1576703265191,
     "user": {
      "displayName": "Lars Johnsen",
      "photoUrl": "https://lh3.googleusercontent.com/a-/AAuE7mDF-7-cjEku4XPs584I5CP4KQI62ub-Cmep7DtZGNw=s64",
      "userId": "09499284895958781434"
     },
     "user_tz": -60
    },
    "id": "145tLkhQjd2f",
    "outputId": "5790b3a2-865b-4e9c-cff5-ddc7119a64bc",
    "tags": []
   },
   "outputs": [
    {
     "name": "stdout",
     "output_type": "stream",
     "text": [
      "<resumptiontoken>all@all@nasjonalbibliografien@marc21@15590290270002201</resumptiontoken>\n"
     ]
    }
   ],
   "source": [
    "get_nasjonalbibliografien(alma_request, nasjonal_params, filename)"
   ]
  },
  {
   "cell_type": "markdown",
   "metadata": {
    "colab": {
     "base_uri": "https://localhost:8080/",
     "height": 1000
    },
    "colab_type": "code",
    "executionInfo": {
     "elapsed": 2061,
     "status": "ok",
     "timestamp": 1576703404929,
     "user": {
      "displayName": "Lars Johnsen",
      "photoUrl": "https://lh3.googleusercontent.com/a-/AAuE7mDF-7-cjEku4XPs584I5CP4KQI62ub-Cmep7DtZGNw=s64",
      "userId": "09499284895958781434"
     },
     "user_tz": -60
    },
    "id": "hIs9vyATjvOa",
    "outputId": "51b18f4f-1922-4c8d-9704-b4cad7753c18"
   },
   "source": [
    "# Testing resumption and fetching \n",
    "\n",
    "code for testing one request and getting the resumptiontoken, with a request for that\n"
   ]
  },
  {
   "cell_type": "code",
   "execution_count": 5,
   "metadata": {
    "colab": {},
    "colab_type": "code",
    "id": "3T52Ng_iXoIh"
   },
   "outputs": [],
   "source": [
    "b=requests.get(alma_request, nasjonal_params)"
   ]
  },
  {
   "cell_type": "code",
   "execution_count": 6,
   "metadata": {
    "colab": {},
    "colab_type": "code",
    "id": "F3jO8SurXwfR"
   },
   "outputs": [],
   "source": [
    "soup = BeautifulSoup(b.text)"
   ]
  },
  {
   "cell_type": "markdown",
   "metadata": {
    "colab": {
     "base_uri": "https://localhost:8080/",
     "height": 1000
    },
    "colab_type": "code",
    "executionInfo": {
     "elapsed": 996,
     "status": "ok",
     "timestamp": 1576703464854,
     "user": {
      "displayName": "Lars Johnsen",
      "photoUrl": "https://lh3.googleusercontent.com/a-/AAuE7mDF-7-cjEku4XPs584I5CP4KQI62ub-Cmep7DtZGNw=s64",
      "userId": "09499284895958781434"
     },
     "user_tz": -60
    },
    "id": "PNILJJ55Y_G5",
    "outputId": "e8d57774-7997-4418-e329-67065537995d"
   },
   "source": [
    "for n in soup.find_all('record', {'xmlns':\"http://www.loc.gov/MARC21/slim\"}):\n",
    "    print(n)"
   ]
  },
  {
   "cell_type": "code",
   "execution_count": 16,
   "metadata": {},
   "outputs": [
    {
     "data": {
      "text/plain": [
       "<resumptiontoken>all@all@nasjonalbibliografien@marc21@15590290270002201</resumptiontoken>"
      ]
     },
     "execution_count": 16,
     "metadata": {},
     "output_type": "execute_result"
    }
   ],
   "source": [
    "rt = soup.find(\"resumptiontoken\")\n",
    "rt"
   ]
  },
  {
   "cell_type": "code",
   "execution_count": 17,
   "metadata": {
    "colab": {},
    "colab_type": "code",
    "id": "LSG-mAcMWJrZ"
   },
   "outputs": [],
   "source": [
    "a = requests.get(alma_request, params = {'verb':'ListRecords', 'resumptionToken':rt.text})"
   ]
  },
  {
   "cell_type": "code",
   "execution_count": 18,
   "metadata": {
    "colab": {
     "base_uri": "https://localhost:8080/",
     "height": 34
    },
    "colab_type": "code",
    "executionInfo": {
     "elapsed": 1238,
     "status": "ok",
     "timestamp": 1576510606503,
     "user": {
      "displayName": "Lars Johnsen",
      "photoUrl": "https://lh3.googleusercontent.com/a-/AAuE7mDF-7-cjEku4XPs584I5CP4KQI62ub-Cmep7DtZGNw=s64",
      "userId": "09499284895958781434"
     },
     "user_tz": -60
    },
    "id": "Ca8WjKBLWqlY",
    "outputId": "e23566a4-ab96-4155-e1d9-08c23a59d060"
   },
   "outputs": [
    {
     "data": {
      "text/plain": [
       "200"
      ]
     },
     "execution_count": 18,
     "metadata": {},
     "output_type": "execute_result"
    }
   ],
   "source": [
    "a.status_code"
   ]
  },
  {
   "cell_type": "code",
   "execution_count": null,
   "metadata": {
    "colab": {
     "base_uri": "https://localhost:8080/",
     "height": 163
    },
    "colab_type": "code",
    "executionInfo": {
     "elapsed": 1925,
     "status": "error",
     "timestamp": 1576510639698,
     "user": {
      "displayName": "Lars Johnsen",
      "photoUrl": "https://lh3.googleusercontent.com/a-/AAuE7mDF-7-cjEku4XPs584I5CP4KQI62ub-Cmep7DtZGNw=s64",
      "userId": "09499284895958781434"
     },
     "user_tz": -60
    },
    "id": "GFQAZ1vVWulB",
    "outputId": "70f616c7-f42c-4296-9bd2-44426218770c"
   },
   "outputs": [],
   "source": []
  },
  {
   "cell_type": "code",
   "execution_count": null,
   "metadata": {
    "colab": {},
    "colab_type": "code",
    "id": "UbRm8UJhWkdS"
   },
   "outputs": [],
   "source": []
  }
 ],
 "metadata": {
  "colab": {
   "name": "nasjonalbibliografi_dump.ipynb",
   "provenance": []
  },
  "kernelspec": {
   "display_name": "Python 3 (ipykernel)",
   "language": "python",
   "name": "python3"
  },
  "language_info": {
   "codemirror_mode": {
    "name": "ipython",
    "version": 3
   },
   "file_extension": ".py",
   "mimetype": "text/x-python",
   "name": "python",
   "nbconvert_exporter": "python",
   "pygments_lexer": "ipython3",
   "version": "3.9.7"
  }
 },
 "nbformat": 4,
 "nbformat_minor": 4
}
