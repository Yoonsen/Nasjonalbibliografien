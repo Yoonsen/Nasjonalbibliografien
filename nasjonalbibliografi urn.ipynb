{
 "cells": [
  {
   "cell_type": "markdown",
   "metadata": {},
   "source": [
    "# Fetch URNs from ID in bibliography"
   ]
  },
  {
   "cell_type": "code",
   "execution_count": 2,
   "metadata": {
    "colab": {},
    "colab_type": "code",
    "id": "MUPdMWvqX1ii"
   },
   "outputs": [],
   "source": [
    "from bs4 import BeautifulSoup\n",
    "import requests\n",
    "\n",
    "import re\n",
    "\n",
    "import json"
   ]
  },
  {
   "cell_type": "markdown",
   "metadata": {},
   "source": [
    "function for getting the URNs"
   ]
  },
  {
   "cell_type": "code",
   "execution_count": 7,
   "metadata": {
    "colab": {},
    "colab_type": "code",
    "id": "ds0ncOBxG4mT"
   },
   "outputs": [],
   "source": [
    "def get_urn(ident):\n",
    "    \"\"\"Fetch a URN from the identifier in the bibliography march controlfield 001\"\"\"\n",
    "    nbapi = \"\"\"https://api.nb.no/catalog/v1/items?q=oaiid:oai:nb.bibsys.no:{mmsid}\"\"\".format(mmsid=ident)\n",
    "    u = requests.get(nbapi).json()\n",
    "    try:\n",
    "        res = u['_embedded']['items'][0]['metadata']['identifiers']['urn']\n",
    "    except:\n",
    "        res = 'none'\n",
    "    return res"
   ]
  },
  {
   "cell_type": "markdown",
   "metadata": {},
   "source": [
    "## point to a copy of the national bibliography"
   ]
  },
  {
   "cell_type": "code",
   "execution_count": 9,
   "metadata": {},
   "outputs": [],
   "source": [
    "file_location = 'nasjonalbibliografi2022.xml'"
   ]
  },
  {
   "cell_type": "code",
   "execution_count": 11,
   "metadata": {
    "colab": {},
    "colab_type": "code",
    "id": "Re23JmG3Hanu"
   },
   "outputs": [],
   "source": [
    "with open(file_location, encoding=\"utf-8\") as f:\n",
    "    text = f.read()"
   ]
  },
  {
   "cell_type": "markdown",
   "metadata": {},
   "source": [
    "Check that there is some meaningful stuff in the text"
   ]
  },
  {
   "cell_type": "code",
   "execution_count": 12,
   "metadata": {
    "colab": {
     "base_uri": "https://localhost:8080/",
     "height": 54
    },
    "colab_type": "code",
    "executionInfo": {
     "elapsed": 588,
     "status": "ok",
     "timestamp": 1579003637285,
     "user": {
      "displayName": "Lars Johnsen",
      "photoUrl": "https://lh3.googleusercontent.com/a-/AAuE7mDF-7-cjEku4XPs584I5CP4KQI62ub-Cmep7DtZGNw=s64",
      "userId": "09499284895958781434"
     },
     "user_tz": -60
    },
    "id": "b8SOHXZiHnXB",
    "outputId": "069e1225-7857-40be-9882-de2796844cc6"
   },
   "outputs": [
    {
     "data": {
      "text/plain": [
       "'<root>\\n<record xmlns=\"http://www.loc.gov/MARC21/slim\" xmlns:xsi=\"http://www.w3.org/2001/XMLSchema-instance\" xsi:schemalocation=\"http://www.loc.gov/MARC21/slim http://www.loc.gov/standards/marcxml/schema/MARC21slim.xsd\">\\n <leader>\\n  00829cam a22002411c 4500\\n </leader>\\n <controlfield tag=\"005\">\\n  2017'"
      ]
     },
     "execution_count": 12,
     "metadata": {},
     "output_type": "execute_result"
    }
   ],
   "source": [
    "text[:300]"
   ]
  },
  {
   "cell_type": "markdown",
   "metadata": {},
   "source": [
    "Identifiers are in controlfield with tag= \"001\". For the lookup we need to replace the last character with the number 2:"
   ]
  },
  {
   "cell_type": "code",
   "execution_count": 13,
   "metadata": {
    "colab": {},
    "colab_type": "code",
    "id": "E9zYdhZmIBPY"
   },
   "outputs": [],
   "source": [
    "ids = {x.split('\\n')[1].strip(): x.split('\\n')[1].strip()[:-1] + '2' for x in re.findall('controlfield tag=\"001\".[^<]+', text)}\n"
   ]
  },
  {
   "cell_type": "markdown",
   "metadata": {},
   "source": [
    "How many identifiers are there?"
   ]
  },
  {
   "cell_type": "code",
   "execution_count": 14,
   "metadata": {
    "colab": {
     "base_uri": "https://localhost:8080/",
     "height": 34
    },
    "colab_type": "code",
    "executionInfo": {
     "elapsed": 566,
     "status": "ok",
     "timestamp": 1579003650789,
     "user": {
      "displayName": "Lars Johnsen",
      "photoUrl": "https://lh3.googleusercontent.com/a-/AAuE7mDF-7-cjEku4XPs584I5CP4KQI62ub-Cmep7DtZGNw=s64",
      "userId": "09499284895958781434"
     },
     "user_tz": -60
    },
    "id": "KBvsx9nnKJGT",
    "outputId": "594c2fc1-2405-4673-e9ff-ead0f9ef8d45"
   },
   "outputs": [
    {
     "data": {
      "text/plain": [
       "812025"
      ]
     },
     "execution_count": 14,
     "metadata": {},
     "output_type": "execute_result"
    }
   ],
   "source": [
    "len(ids)"
   ]
  },
  {
   "cell_type": "markdown",
   "metadata": {},
   "source": [
    "Plan on doing multiprocessing - to speed up things"
   ]
  },
  {
   "cell_type": "code",
   "execution_count": 19,
   "metadata": {
    "colab": {
     "base_uri": "https://localhost:8080/",
     "height": 34
    },
    "colab_type": "code",
    "executionInfo": {
     "elapsed": 575,
     "status": "ok",
     "timestamp": 1579003664733,
     "user": {
      "displayName": "Lars Johnsen",
      "photoUrl": "https://lh3.googleusercontent.com/a-/AAuE7mDF-7-cjEku4XPs584I5CP4KQI62ub-Cmep7DtZGNw=s64",
      "userId": "09499284895958781434"
     },
     "user_tz": -60
    },
    "id": "StRm4K-uJLgO",
    "outputId": "9b290fd1-c7ca-49df-ddf1-c7a2de628ca7"
   },
   "outputs": [
    {
     "name": "stdout",
     "output_type": "stream",
     "text": [
      "Number of processors:  8\n"
     ]
    }
   ],
   "source": [
    "import multiprocessing as mp\n",
    "print(\"Number of processors: \", mp.cpu_count())"
   ]
  },
  {
   "cell_type": "code",
   "execution_count": 17,
   "metadata": {
    "colab": {},
    "colab_type": "code",
    "id": "uvdl0GNopzeI"
   },
   "outputs": [],
   "source": [
    "urn_mapping = {ident:get_urn(ids[ident]) for ident in list(ids.keys())[:100]}"
   ]
  },
  {
   "cell_type": "code",
   "execution_count": 18,
   "metadata": {},
   "outputs": [
    {
     "data": {
      "text/plain": [
       "{'990000480974702201': 'none',\n",
       " '990000486074702201': 'URN:NBN:no-nb_digibok_2019072507154',\n",
       " '990000498674702201': 'none',\n",
       " '990000523454702201': 'URN:NBN:no-nb_digibok_2012092508011',\n",
       " '990000494094702201': 'none',\n",
       " '990000525744702201': 'URN:NBN:no-nb_digibok_2008092504013',\n",
       " '990000537404702201': 'URN:NBN:no-nb_digibok_2016020808168',\n",
       " '990000453064702201': 'none',\n",
       " '990000454624702201': 'URN:NBN:no-nb_digibok_2008082204024',\n",
       " '990000514704702201': 'none',\n",
       " '990000505124702201': 'URN:NBN:no-nb_digibok_2009012700070',\n",
       " '990000494504702201': 'none',\n",
       " '990000563084702201': 'URN:NBN:no-nb_digibok_2010111005045',\n",
       " '990000486904702201': 'none',\n",
       " '990000524694702201': 'none',\n",
       " '990000556114702201': 'URN:NBN:no-nb_digibok_2017050848119',\n",
       " '990000523964702201': 'URN:NBN:no-nb_digibok_2010110506066',\n",
       " '990000492204702201': 'none',\n",
       " '990000445554702201': 'none',\n",
       " '990000443264702201': 'none',\n",
       " '990000484294702201': 'URN:NBN:no-nb_digibok_2009031000023',\n",
       " '990000442534702201': 'none',\n",
       " '990000573714702201': 'none',\n",
       " '990000447334702201': 'URN:NBN:no-nb_digibok_2016020308182',\n",
       " '990000460864702201': 'none',\n",
       " '990000486154702201': 'URN:NBN:no-nb_digibok_2010011400042',\n",
       " '990000459184702201': 'URN:NBN:no-nb_digibok_2008042104059',\n",
       " '990000462724702201': 'none',\n",
       " '990000529574702201': 'URN:NBN:no-nb_digibok_2008090800068',\n",
       " '990000560814702201': 'URN:NBN:no-nb_digibok_2014031708063',\n",
       " '990000525404702201': 'URN:NBN:no-nb_digibok_2016072808072',\n",
       " '990000559564702201': 'none',\n",
       " '990000494174702201': 'URN:NBN:no-nb_digibok_2013092324001',\n",
       " '990000567584702201': 'URN:NBN:no-nb_digibok_2010070605011',\n",
       " '990000444404702201': 'none',\n",
       " '990000520194702201': 'none',\n",
       " '990000572584702201': 'none',\n",
       " '990000521754702201': 'URN:NBN:no-nb_digibok_2011091406126',\n",
       " '990000502704702201': 'URN:NBN:no-nb_digibok_2008092504057',\n",
       " '990000550934702201': 'URN:NBN:no-nb_digibok_2008110600118',\n",
       " '990000447094702201': 'none',\n",
       " '990000580504702201': 'URN:NBN:no-nb_digibok_2008082204026',\n",
       " '990000505714702201': 'none',\n",
       " '990000444904702201': 'none',\n",
       " '990000447924702201': 'none',\n",
       " '990000493014702201': 'none',\n",
       " '990000485934702201': 'none',\n",
       " '990000572074702201': 'URN:NBN:no-nb_digibok_2013022124005',\n",
       " '990000507684702201': 'none',\n",
       " '990000565104702201': 'URN:NBN:no-nb_digibok_2017091148095',\n",
       " '990000580414702201': 'none',\n",
       " '990000573124702201': 'URN:NBN:no-nb_digibok_2014042807022',\n",
       " '990000555734702201': 'URN:NBN:no-nb_digibok_2010032307017',\n",
       " '990000574794702201': 'none',\n",
       " '990000571774702201': 'URN:NBN:no-nb_digibok_2011022305122',\n",
       " '990000447504702201': 'URN:NBN:no-nb_digibok_2012020908157',\n",
       " '990000527874702201': 'none',\n",
       " '990000486744702201': 'none',\n",
       " '990000459264702201': 'none',\n",
       " '990000443854702201': 'none',\n",
       " '990000513814702201': 'URN:NBN:no-nb_digibok_2016021508007',\n",
       " '990000570534702201': 'URN:NBN:no-nb_digibok_2012091408010',\n",
       " '990000574284702201': 'URN:NBN:no-nb_digibok_2017032248055',\n",
       " '990000491314702201': 'URN:NBN:no-nb_digibok_2010051003022',\n",
       " '990000527444702201': 'none',\n",
       " '990000493604702201': 'none',\n",
       " '990000486314702201': 'URN:NBN:no-nb_digibok_2007032210001',\n",
       " '990000512764702201': 'none',\n",
       " '990000469144702201': 'none',\n",
       " '990000574604702201': 'URN:NBN:no-nb_digibok_2010052003018',\n",
       " '990000573044702201': 'URN:NBN:no-nb_digibok_2008100700050',\n",
       " '990000446014702201': 'none',\n",
       " '990000493284702201': 'URN:NBN:no-nb_digibok_2008090400012',\n",
       " '990000538994702201': 'none',\n",
       " '990000563674702201': 'URN:NBN:no-nb_digibok_2012022208146',\n",
       " '990000471204702201': 'URN:NBN:no-nb_digibok_2008092900045',\n",
       " '990000528684702201': 'URN:NBN:no-nb_digibok_2011031606055',\n",
       " '990000465584702201': 'URN:NBN:no-nb_digibok_2016071106107',\n",
       " '990000463294702201': 'URN:NBN:no-nb_digibok_2008101304119',\n",
       " '990000522644702201': 'none',\n",
       " '990000464344702201': 'URN:NBN:no-nb_digibok_2012102208132',\n",
       " '990000469654702201': 'URN:NBN:no-nb_digibok_2010040603006',\n",
       " '990000456324702201': 'URN:NBN:no-nb_digibok_2016012105025',\n",
       " '990000544294702201': 'URN:NBN:no-nb_digibok_2016071206016',\n",
       " '990000468504702201': 'URN:NBN:no-nb_digibok_2008090300008',\n",
       " '990000473504702201': 'URN:NBN:no-nb_digibok_2008090300032',\n",
       " '990000565454702201': 'none',\n",
       " '990000539294702201': 'URN:NBN:no-nb_digibok_2008090404028',\n",
       " '990000488794702201': 'none',\n",
       " '990000576494702201': 'URN:NBN:no-nb_digibok_2009063004006',\n",
       " '990000528254702201': 'none',\n",
       " '990000532524702201': 'URN:NBN:no-nb_digibok_2017082348020',\n",
       " '990000551404702201': 'none',\n",
       " '990000454544702201': 'none',\n",
       " '990000456834702201': 'URN:NBN:no-nb_digibok_2009082404053',\n",
       " '990000451524702201': 'URN:NBN:no-nb_digibok_2010120820020',\n",
       " '990000453814702201': 'none',\n",
       " '990000458704702201': 'none',\n",
       " '990000495144702201': 'URN:NBN:no-nb_digibok_2016102848610',\n",
       " '990000497434702201': 'URN:NBN:no-nb_digibok_2010081808066'}"
      ]
     },
     "execution_count": 18,
     "metadata": {},
     "output_type": "execute_result"
    }
   ],
   "source": [
    "urn_mapping"
   ]
  },
  {
   "cell_type": "code",
   "execution_count": null,
   "metadata": {
    "colab": {},
    "colab_type": "code",
    "id": "jdWNteKmqCZ9"
   },
   "outputs": [],
   "source": [
    "with open('/gdrive/My Drive/urn_mapping.json','w') as f:\n",
    "    json.dump(urn_mapping, f)"
   ]
  },
  {
   "cell_type": "code",
   "execution_count": null,
   "metadata": {
    "colab": {
     "base_uri": "https://localhost:8080/",
     "height": 35
    },
    "colab_type": "code",
    "executionInfo": {
     "elapsed": 1388,
     "status": "ok",
     "timestamp": 1576733597794,
     "user": {
      "displayName": "Lars Johnsen",
      "photoUrl": "https://lh3.googleusercontent.com/a-/AAuE7mDF-7-cjEku4XPs584I5CP4KQI62ub-Cmep7DtZGNw=s64",
      "userId": "09499284895958781434"
     },
     "user_tz": -60
    },
    "id": "I2_E549CI4K-",
    "outputId": "8aca1cef-bd19-4b4c-97e9-3ad3f43fe28f"
   },
   "outputs": [
    {
     "data": {
      "text/plain": [
       "'none'"
      ]
     },
     "execution_count": 26,
     "metadata": {
      "tags": []
     },
     "output_type": "execute_result"
    }
   ],
   "source": [
    "u = get_urn(ids[20])\n",
    "u"
   ]
  },
  {
   "cell_type": "code",
   "execution_count": null,
   "metadata": {
    "colab": {
     "base_uri": "https://localhost:8080/",
     "height": 35
    },
    "colab_type": "code",
    "executionInfo": {
     "elapsed": 689,
     "status": "ok",
     "timestamp": 1576733488124,
     "user": {
      "displayName": "Lars Johnsen",
      "photoUrl": "https://lh3.googleusercontent.com/a-/AAuE7mDF-7-cjEku4XPs584I5CP4KQI62ub-Cmep7DtZGNw=s64",
      "userId": "09499284895958781434"
     },
     "user_tz": -60
    },
    "id": "2CIDlMfUoU9C",
    "outputId": "be123113-6baf-4867-d5ae-0d75e0b4a2c8"
   },
   "outputs": [
    {
     "data": {
      "text/plain": [
       "'URN:NBN:no-nb_digibok_2008100200021'"
      ]
     },
     "execution_count": 21,
     "metadata": {
      "tags": []
     },
     "output_type": "execute_result"
    }
   ],
   "source": [
    "u['_embedded']['items'][0]['metadata']['identifiers']['urn']"
   ]
  },
  {
   "cell_type": "code",
   "execution_count": null,
   "metadata": {
    "colab": {
     "base_uri": "https://localhost:8080/",
     "height": 1000
    },
    "colab_type": "code",
    "executionInfo": {
     "elapsed": 4978,
     "status": "ok",
     "timestamp": 1576514051569,
     "user": {
      "displayName": "Lars Johnsen",
      "photoUrl": "https://lh3.googleusercontent.com/a-/AAuE7mDF-7-cjEku4XPs584I5CP4KQI62ub-Cmep7DtZGNw=s64",
      "userId": "09499284895958781434"
     },
     "user_tz": -60
    },
    "id": "hIs9vyATjvOa",
    "outputId": "d33125a8-e43b-4f6f-a7e2-d349b395a8ea"
   },
   "outputs": [
    {
     "name": "stdout",
     "output_type": "stream",
     "text": [
      " 159769.gdoc\n",
      " 201312131850-G_JOHNSEN_LARS_MR_ADT_701-2121690259.pdf\n",
      " 20150822_151731.jpg\n",
      " 20150822_151744.jpg\n",
      " 20151210143719.pdf\n",
      " 20160708_092239.jpg\n",
      " 20160708_092246.jpg\n",
      " 20161101_165026.jpg\n",
      " 20161101_165026_picmonkeyed.jpg\n",
      " 20170425_sprakbanken.gslides\n",
      "'22. 03. 2017 VFL Wolfsburg (1).gdoc'\n",
      "'22. 03. 2017 VFL Wolfsburg.gdoc'\n",
      "'27. januar, Filip Lømsland.gdoc'\n",
      " 5085242.pdf\n",
      "'Akseptbrev generelt kjoper_55_16555.pdf'\n",
      "'Altinn - Utskriftsversjon av selvangivelse.pdf'\n",
      " AnnotationManual.pdf\n",
      "'API-fulltekst NB.gdoc'\n",
      "'Appendix 3.gdoc'\n",
      "'Arbeider basert på DH-Lab.gdoc'\n",
      "'Arikkel REV HJ 20.10.gdoc'\n",
      " artikler\n",
      " artikler_nedlastede\n",
      "'Astma hybrid.gslides'\n",
      " å-ut.txt\n",
      "'Average distance between words as a relevance measure.gdoc'\n",
      " bal2011john1110.zip\n",
      " bal2011john-docbook.pdf\n",
      " barneungdomslitt\n",
      " Bekreftelse_1541791511.pdf\n",
      "'Bemis and Pylkkanen (2011) JoN.pdf'\n",
      " BixbyVision_20180606-155215.txt.gdoc\n",
      " booking_5213277.pdf\n",
      "'BT31473_Lars Gunnarsønn Johnsen Garantibevis.pdf'\n",
      " budjournal-d91_55_16554.pdf\n",
      " Budskjema.pdf\n",
      " CLARIN_tests.gdoc\n",
      " clustre_dhn2018.txt.gdoc\n",
      "'Colab Notebooks'\n",
      "'Collocation measures.gdoc'\n",
      "'Collocation measures - Stolpediagram 1.gsheet'\n",
      "'copy of workbook1.gsheet'\n",
      "'Corpus  vs.  Generative Grammar.gslides'\n",
      " CV.docx\n",
      " CV.docx.gdoc\n",
      "'Data mot Bokhylla.gslides'\n",
      " dekning.gsheet\n",
      " dep_diagram.gdoc\n",
      "'DH og analyse, Notebook.gdoc'\n",
      "'Digitaliserte tekster i biblioteket for terminologisk arbeid.gslides'\n",
      "'Dokument uten navn (10).gdoc'\n",
      "'Dokument uten navn (11).gdoc'\n",
      "'Dokument uten navn (12).gdoc'\n",
      "'Dokument uten navn (13).gdoc'\n",
      "'Dokument uten navn (14).gdoc'\n",
      "'Dokument uten navn (15).gdoc'\n",
      "'Dokument uten navn (16).gdoc'\n",
      "'Dokument uten navn (17).gdoc'\n",
      "'Dokument uten navn (18).gdoc'\n",
      "'Dokument uten navn (19).gdoc'\n",
      "'Dokument uten navn (1).gdoc'\n",
      "'Dokument uten navn (20).gdoc'\n",
      "'Dokument uten navn (21).gdoc'\n",
      "'Dokument uten navn (22).gdoc'\n",
      "'Dokument uten navn (23).gdoc'\n",
      "'Dokument uten navn (24).gdoc'\n",
      "'Dokument uten navn (25).gdoc'\n",
      "'Dokument uten navn (26).gdoc'\n",
      "'Dokument uten navn (27).gdoc'\n",
      "'Dokument uten navn (28).gdoc'\n",
      "'Dokument uten navn (29).gdoc'\n",
      "'Dokument uten navn (2).gdoc'\n",
      "'Dokument uten navn (30).gdoc'\n",
      "'Dokument uten navn (31).gdoc'\n",
      "'Dokument uten navn (32).gdoc'\n",
      "'Dokument uten navn (33).gdoc'\n",
      "'Dokument uten navn (34).gdoc'\n",
      "'Dokument uten navn (35).gdoc'\n",
      "'Dokument uten navn (36).gdoc'\n",
      "'Dokument uten navn (37).gdoc'\n",
      "'Dokument uten navn (38).gdoc'\n",
      "'Dokument uten navn (39).gdoc'\n",
      "'Dokument uten navn (3).gdoc'\n",
      "'Dokument uten navn (40).gdoc'\n",
      "'Dokument uten navn (41).gdoc'\n",
      "'Dokument uten navn (42).gdoc'\n",
      "'Dokument uten navn (43).gdoc'\n",
      "'Dokument uten navn (44).gdoc'\n",
      "'Dokument uten navn (45).gdoc'\n",
      "'Dokument uten navn (46).gdoc'\n",
      "'Dokument uten navn (4).gdoc'\n",
      "'Dokument uten navn (5).gdoc'\n",
      "'Dokument uten navn (6).gdoc'\n",
      "'Dokument uten navn (7).gdoc'\n",
      "'Dokument uten navn (8).gdoc'\n",
      "'Dokument uten navn (9).gdoc'\n",
      "'Dokument uten navn.gdoc'\n",
      "'EGF nov 11 Lingit.pdf'\n",
      "'Eksamensavviklingen høsten 2009 - notat til faglærerne.gdoc'\n",
      " ellen_juni_2018_digibok_2013013008306.txt.gdoc\n",
      " emner-kaffe-delt.png\n",
      " ESTA.pdf\n",
      " Facit_DASPSTAT2015.gtable\n",
      " Facit_DASPSTAT2015.xlsx\n",
      " Facit_DASPSTAT2015.xlsx.gsheet\n",
      "'Filip_pass_fullmakt (1).pdf'\n",
      " Filip_pass_fullmakt.pdf\n",
      "'Filip_pass_fullmkt(1).pdf'\n",
      " Filip_pass_fullmkt.pdf\n",
      "'FinalReportPH (1).gdoc'\n",
      "'FinalReportPH (2).gdoc'\n",
      " FinalReportPH.gdoc\n",
      " foo.txt\n",
      "'Framtida er nå.gdoc'\n",
      " frekvenser.gsheet\n",
      "'Fullmakt Lingit aksjonærer.docx'\n",
      "'Fullmakt Lingit aksjonærer ekstraordinær generalforsamling.gdoc'\n",
      "'Fullmakt Lingit aksjonærer.pdf'\n",
      "'Fullmaktsblankett EGF 11 nov 2013.docx.gdoc'\n",
      "'g 10 avd 20 (sotra) 06 05 11.gsheet'\n",
      "'Ga appendix SLAVOB-final.gdoc'\n",
      " galakser\n",
      "'Gardermoen.pdf via e-post.pdf'\n",
      "'Generelazing tf idf.gslides'\n",
      "'Getahun report.gdoc'\n",
      "'Green Card Lars G. Johnsen.pdf'\n",
      "'halsnøy .gmap'\n",
      " Halsnøy-Røldal.gmap\n",
      "'Health concept intro.gdoc'\n",
      " HeCore_data\n",
      "'Heidi PhD 2.Method_chapter_17 June 2019.gdoc'\n",
      " Historiedagene.gslides\n",
      "'Hus Anita.gdoc'\n",
      " INSTRUKSJONSPLANH09-oppdatertaugust-2-2009.gdoc\n",
      " INVITASJON.gdoc\n",
      "'Italia bil.pdf'\n",
      "'Jupyter Notebook'\n",
      "'klageprotokoll kogvit101 (1).pdf'\n",
      "'klageprotokoll kogvit101.pdf'\n",
      "'Klage - versjon 3.gdoc'\n",
      " Krakow\n",
      " Kropp\n",
      " Kropp.mm\n",
      " Kropp.opml\n",
      "'Kvantitativ grammatikk.gdoc'\n",
      " kvenskseminar.gslides\n",
      " Landslov\n",
      " lars.gsheet\n",
      "'Light verbs presentation.pptx'\n",
      "'Light verbs presentation.pptx.gslides'\n",
      "'lin118 sensur.gsheet'\n",
      " ling121.gsheet\n",
      "'LING2216 - hjemmeeksamen.gdoc'\n",
      " ling306.gdoc\n",
      "'ling3302 (1).gsheet'\n",
      " ling3302.gsheet\n",
      "'LING DASP okt nov2010.gdoc'\n",
      "'Liste over tekster i latinkorpuset:.gdoc'\n",
      "'LUCIA 2008 (2).gdoc'\n",
      "'Main developments in the post.040219 (1).gdoc'\n",
      " manus\n",
      "'Medicae Consiliosa AS.doc.gdoc'\n",
      " meta_from_maps_workshop.ipynb\n",
      "'Mons 2019 - API.gslides'\n",
      "'Møte i Mining Digital Bookshelf.gdoc'\n",
      "'Muntlig eksamen kommisjoner og pasientfordeling H17.doc'\n",
      "'Muntlig eksamen kommisjoner og pasientfordeling H17.gdoc'\n",
      " ngramSQL.zip\n",
      "'Nijmegen - Page 9.jpg'\n",
      " Noklestad_Lyse.pdf\n",
      " NorVal_project_3.docx\n",
      "'Norwegian Appendix SLAVOB-final.gdoc'\n",
      "'Notater til foredrag om Astma.gdoc'\n",
      "'operaen oktober 2018.pdf'\n",
      " ordbank.txt\n",
      "'Ordrebekreftelse_11394_Din FLAMME as.gdoc'\n",
      "'Ordrebekreftelse for ordre 428375.PDF'\n",
      "'OsloMet - AI og BigData (1).gslides'\n",
      "'OsloMet - AI og BigData (2).gslides'\n",
      "'OsloMet - AI og BigData.gslides'\n",
      " paint_20140827_163227.png\n",
      "'Pallier et al (2010) PNAS.pdf'\n",
      "'partisipp -mons2019.gslides'\n",
      " Pensumliste_DASP302-1.gdoc\n",
      " Planer-språkbank.docx_files\n",
      " Planer-språkbank.docx.html\n",
      "'Pokemon dev chart.gsheet'\n",
      "'Porsche 968 Manual'\n",
      " presentasjoner\n",
      "'Presentasjon uten navn (1).gslides'\n",
      "'Presentasjon uten navn.gslides'\n",
      "'Presentasjon uten tittel.gslides'\n",
      "'Probability for semantics.gdoc'\n",
      " protokoll_dasp106_u.pdf\n",
      "'protokoll_LING306 2015.pdf'\n",
      " ragde-x-hans-hennes.pdf\n",
      "'Rapport om språklig sammenligning av twitterbrukere.gdoc'\n",
      "'Rapport om språklig sammenligning Facebook og Twitter.gdoc'\n",
      " received_1297929227020803.jpeg\n",
      " received_2166344226736772.jpeg\n",
      " received_323542478328989.jpeg\n",
      " received_351659222374616.jpeg\n",
      " received_362471147763308.jpeg\n",
      " received_457344671577944.jpeg\n",
      "'Reference chains for named entities.gdoc'\n",
      "'Regneark uten navn (1).gsheet'\n",
      "'Regneark uten navn (2).gsheet'\n",
      "'Regneark uten navn (3).gsheet'\n",
      "'Regneark uten navn.gsheet'\n",
      " Reisebekreftelse_JCR2SV.pdf\n",
      " reisedok\n",
      "'report Ota.gdoc'\n",
      "'repository workshop nijmege.odt'\n",
      " research_positions_Unifob_AKSIS.gdoc\n",
      " resolver.jpg\n",
      " Riga.gslides\n",
      " SA33587117514929646728.pdf\n",
      "'Samiske ord.gslides'\n",
      "'Sender lingit_eogf_des_2014.pdf via e-post.pdf'\n",
      "'sensur 2011 Dasp106.gsheet'\n",
      "'sensur 2011 Dasp 107.gsheet'\n",
      "'sensur 2011.gsheet'\n",
      "'sensur 2011 ling122.gdoc'\n",
      "'sensur 2011 ling 122 sorted.gdoc'\n",
      "'sensur 2011 ling 306.odt.gdoc'\n",
      " sensur_31_03_2016.pdf\n",
      "'sensur_31_03_2016 sign.pdf'\n",
      "'sensur bodø h2016.xlt'\n",
      "'sensur bodø h2016.xlt.gsheet'\n",
      "'Sensur PE321L SK2 høst 2017.gsheet'\n",
      " sensur_uin_jan_2016.pdf\n",
      "'Sesongplan_høst09 (1).gdoc'\n",
      " Sesongplan_høst09.gdoc\n",
      " Sigrid.gdoc\n",
      " Sinding-Larsen.gdoc\n",
      " Skatt2017.ods.gsheet\n",
      " Skatt2018.ods.gsheet\n",
      " skøte.pdf\n",
      " språkbanken.gslides\n",
      "'Språkdebatten 1800-tallet, Kåseri(slash)Fortelling (1).gdoc'\n",
      "'Språkdebatten 1800-tallet, Kåseri(slash)Fortelling (3).docx'\n",
      "'Språkdebatten 1800-tallet, Kåseri(slash)Fortelling (3).docx.gdoc'\n",
      "'Språkdebatten 1800-tallet, Kåseri(slash)Fortelling (5).gdoc'\n",
      "'Språk og identitet.gdoc'\n",
      "'Språkteknologi og tesaurus.gdoc'\n",
      " Stanford\n",
      "'summary for Lars 29 APRIL.gdoc'\n",
      " TalerpåTorvet_korpus.xlsx\n",
      " tc2_export.gdoc\n",
      "'Tegning uten tittel.gdraw'\n",
      "'Tekstene i latinkorpuset, unntatt Diplomatarium Norvegicum, er transkribert og kodet ved Nasjonalbiblioteket.gdoc'\n",
      " test.svg\n",
      " text_1.txt.gdoc\n",
      "'The concept of health .gdoc'\n",
      " tickets_24941469.pdf\n",
      "'Tilbud - Sameiet Drammensveien 91.pdf'\n",
      " til-conc-ut.txt\n",
      "'timeplanh2012fon_lingv (1).gsheet'\n",
      " timeplanh2012fon_lingv.gsheet\n",
      " Time-Table.gdoc\n",
      "'Title length.gslides'\n",
      "'Toril astma - Bergen 3 april 2008 (1).gslides'\n",
      "'Toril astma - Bergen 3 april 2008.gslides'\n",
      "'Toril astma - Bergen 3 april 2008.ppt'\n",
      "'Trafikklys rapport nr 2.docx'\n",
      " tt5290.jpg\n",
      "'UiO-november 2019.gslides'\n",
      "'Uke 39.docx'\n",
      " unknown.gsheet\n",
      "'Untitled (1).xml'\n",
      "'Untitled (2).xml'\n",
      "'Untitled (3).xml'\n",
      " Untitled.xml\n",
      " Vernerunder.gdoc\n",
      "'Verneteam høst 2018.gdoc'\n",
      " vtkl-015032b34908583d77369616e2a10d454f89d440-39457077.pdf\n",
      "'Yoonsen forslag.gsheet'\n"
     ]
    }
   ],
   "source": [
    "!ls \"/gdrive/My Drive\""
   ]
  },
  {
   "cell_type": "code",
   "execution_count": null,
   "metadata": {
    "colab": {},
    "colab_type": "code",
    "id": "3T52Ng_iXoIh"
   },
   "outputs": [],
   "source": [
    "b=requests.get(nbib_marc, params)"
   ]
  },
  {
   "cell_type": "code",
   "execution_count": null,
   "metadata": {
    "colab": {},
    "colab_type": "code",
    "id": "F3jO8SurXwfR"
   },
   "outputs": [],
   "source": [
    "soup = BeautifulSoup(b.text)"
   ]
  },
  {
   "cell_type": "code",
   "execution_count": 1,
   "metadata": {
    "colab": {
     "base_uri": "https://localhost:8080/",
     "height": 1000
    },
    "colab_type": "code",
    "executionInfo": {
     "elapsed": 1122,
     "status": "ok",
     "timestamp": 1576512894287,
     "user": {
      "displayName": "Lars Johnsen",
      "photoUrl": "https://lh3.googleusercontent.com/a-/AAuE7mDF-7-cjEku4XPs584I5CP4KQI62ub-Cmep7DtZGNw=s64",
      "userId": "09499284895958781434"
     },
     "user_tz": -60
    },
    "id": "PNILJJ55Y_G5",
    "outputId": "da03e233-c570-4bb2-87a6-c36ae7f69ff5"
   },
   "outputs": [],
   "source": [
    "#for n in soup.find_all('record', {'xmlns':\"http://www.loc.gov/MARC21/slim\"}):\n",
    " # print(n)"
   ]
  },
  {
   "cell_type": "code",
   "execution_count": null,
   "metadata": {
    "colab": {
     "base_uri": "https://localhost:8080/",
     "height": 34
    },
    "colab_type": "code",
    "executionInfo": {
     "elapsed": 2387,
     "status": "ok",
     "timestamp": 1576511359927,
     "user": {
      "displayName": "Lars Johnsen",
      "photoUrl": "https://lh3.googleusercontent.com/a-/AAuE7mDF-7-cjEku4XPs584I5CP4KQI62ub-Cmep7DtZGNw=s64",
      "userId": "09499284895958781434"
     },
     "user_tz": -60
    },
    "id": "DRRQj3R5YVap",
    "outputId": "1f072e34-af33-43c2-a287-30387bc67caa"
   },
   "outputs": [
    {
     "data": {
      "text/plain": [
       "'all@all@nasjonalbibliografien@marc21@15590290270002201'"
      ]
     },
     "execution_count": 51,
     "metadata": {
      "tags": []
     },
     "output_type": "execute_result"
    }
   ],
   "source": [
    "rtoken = soup.find('resumptiontoken').text\n",
    "rtoken"
   ]
  },
  {
   "cell_type": "code",
   "execution_count": null,
   "metadata": {
    "colab": {},
    "colab_type": "code",
    "id": "5DtiaJVyYkla"
   },
   "outputs": [],
   "source": [
    "c = requests.get(nbib_marc, params = {'verb':'ListRecords', 'resumptionToken':soup.find('resumptiontoken').text})"
   ]
  },
  {
   "cell_type": "code",
   "execution_count": null,
   "metadata": {
    "colab": {},
    "colab_type": "code",
    "id": "2CGh92wSYwIQ"
   },
   "outputs": [],
   "source": [
    "soup2 = BeautifulSoup(c.text)"
   ]
  },
  {
   "cell_type": "code",
   "execution_count": 2,
   "metadata": {
    "colab": {
     "base_uri": "https://localhost:8080/",
     "height": 1000
    },
    "colab_type": "code",
    "executionInfo": {
     "elapsed": 3297,
     "status": "ok",
     "timestamp": 1576511430578,
     "user": {
      "displayName": "Lars Johnsen",
      "photoUrl": "https://lh3.googleusercontent.com/a-/AAuE7mDF-7-cjEku4XPs584I5CP4KQI62ub-Cmep7DtZGNw=s64",
      "userId": "09499284895958781434"
     },
     "user_tz": -60
    },
    "id": "QPw8ejyPZXm4",
    "outputId": "45f3d780-eef5-4a16-f6a6-ea3dd9a7a1a3"
   },
   "outputs": [],
   "source": [
    "#soup2"
   ]
  },
  {
   "cell_type": "code",
   "execution_count": null,
   "metadata": {
    "colab": {
     "base_uri": "https://localhost:8080/",
     "height": 163
    },
    "colab_type": "code",
    "executionInfo": {
     "elapsed": 1785,
     "status": "error",
     "timestamp": 1576511291933,
     "user": {
      "displayName": "Lars Johnsen",
      "photoUrl": "https://lh3.googleusercontent.com/a-/AAuE7mDF-7-cjEku4XPs584I5CP4KQI62ub-Cmep7DtZGNw=s64",
      "userId": "09499284895958781434"
     },
     "user_tz": -60
    },
    "id": "VuMq2W7wYG2y",
    "outputId": "8ff94cf2-5590-4a16-9e43-f27eac53fc33"
   },
   "outputs": [
    {
     "ename": "AttributeError",
     "evalue": "ignored",
     "output_type": "error",
     "traceback": [
      "\u001b[0;31m---------------------------------------------------------------------------\u001b[0m",
      "\u001b[0;31mAttributeError\u001b[0m                            Traceback (most recent call last)",
      "\u001b[0;32m<ipython-input-44-9c3dec3ccfcf>\u001b[0m in \u001b[0;36m<module>\u001b[0;34m()\u001b[0m\n\u001b[0;32m----> 1\u001b[0;31m \u001b[0msoup\u001b[0m\u001b[0;34m.\u001b[0m\u001b[0mfind\u001b[0m\u001b[0;34m(\u001b[0m\u001b[0;34m'resumptiontoken'\u001b[0m\u001b[0;34m)\u001b[0m\u001b[0;34m.\u001b[0m\u001b[0mtext\u001b[0m\u001b[0;34m\u001b[0m\u001b[0;34m\u001b[0m\u001b[0m\n\u001b[0m",
      "\u001b[0;31mAttributeError\u001b[0m: 'NoneType' object has no attribute 'text'"
     ]
    }
   ],
   "source": [
    "soup.find('resumptiontoken').text"
   ]
  },
  {
   "cell_type": "code",
   "execution_count": null,
   "metadata": {
    "colab": {},
    "colab_type": "code",
    "id": "LSG-mAcMWJrZ"
   },
   "outputs": [],
   "source": [
    "a = requests.get(nbib_marc)"
   ]
  },
  {
   "cell_type": "code",
   "execution_count": 3,
   "metadata": {
    "colab": {
     "base_uri": "https://localhost:8080/",
     "height": 54
    },
    "colab_type": "code",
    "executionInfo": {
     "elapsed": 3143,
     "status": "ok",
     "timestamp": 1576510575587,
     "user": {
      "displayName": "Lars Johnsen",
      "photoUrl": "https://lh3.googleusercontent.com/a-/AAuE7mDF-7-cjEku4XPs584I5CP4KQI62ub-Cmep7DtZGNw=s64",
      "userId": "09499284895958781434"
     },
     "user_tz": -60
    },
    "id": "gMegTs3IWNHR",
    "outputId": "93e3f5ab-0459-484e-ce00-d7652350bd05"
   },
   "outputs": [],
   "source": [
    "#a.text"
   ]
  },
  {
   "cell_type": "code",
   "execution_count": null,
   "metadata": {
    "colab": {
     "base_uri": "https://localhost:8080/",
     "height": 34
    },
    "colab_type": "code",
    "executionInfo": {
     "elapsed": 1238,
     "status": "ok",
     "timestamp": 1576510606503,
     "user": {
      "displayName": "Lars Johnsen",
      "photoUrl": "https://lh3.googleusercontent.com/a-/AAuE7mDF-7-cjEku4XPs584I5CP4KQI62ub-Cmep7DtZGNw=s64",
      "userId": "09499284895958781434"
     },
     "user_tz": -60
    },
    "id": "Ca8WjKBLWqlY",
    "outputId": "e23566a4-ab96-4155-e1d9-08c23a59d060"
   },
   "outputs": [
    {
     "data": {
      "text/plain": [
       "200"
      ]
     },
     "execution_count": 9,
     "metadata": {
      "tags": []
     },
     "output_type": "execute_result"
    }
   ],
   "source": [
    "a.status_code"
   ]
  },
  {
   "cell_type": "code",
   "execution_count": null,
   "metadata": {
    "colab": {
     "base_uri": "https://localhost:8080/",
     "height": 163
    },
    "colab_type": "code",
    "executionInfo": {
     "elapsed": 1925,
     "status": "error",
     "timestamp": 1576510639698,
     "user": {
      "displayName": "Lars Johnsen",
      "photoUrl": "https://lh3.googleusercontent.com/a-/AAuE7mDF-7-cjEku4XPs584I5CP4KQI62ub-Cmep7DtZGNw=s64",
      "userId": "09499284895958781434"
     },
     "user_tz": -60
    },
    "id": "GFQAZ1vVWulB",
    "outputId": "70f616c7-f42c-4296-9bd2-44426218770c"
   },
   "outputs": [
    {
     "ename": "AttributeError",
     "evalue": "ignored",
     "output_type": "error",
     "traceback": [
      "\u001b[0;31m---------------------------------------------------------------------------\u001b[0m",
      "\u001b[0;31mAttributeError\u001b[0m                            Traceback (most recent call last)",
      "\u001b[0;32m<ipython-input-11-8c2fab50d264>\u001b[0m in \u001b[0;36m<module>\u001b[0;34m()\u001b[0m\n\u001b[0;32m----> 1\u001b[0;31m \u001b[0ma\u001b[0m\u001b[0;34m.\u001b[0m\u001b[0mres\u001b[0m\u001b[0;34m\u001b[0m\u001b[0;34m\u001b[0m\u001b[0m\n\u001b[0m",
      "\u001b[0;31mAttributeError\u001b[0m: 'Response' object has no attribute 'res'"
     ]
    }
   ],
   "source": []
  },
  {
   "cell_type": "code",
   "execution_count": null,
   "metadata": {
    "colab": {},
    "colab_type": "code",
    "id": "UbRm8UJhWkdS"
   },
   "outputs": [],
   "source": []
  }
 ],
 "metadata": {
  "colab": {
   "collapsed_sections": [],
   "name": "Copy of nasjonalbibliografi urn.ipynb",
   "provenance": [
    {
     "file_id": "1qG7DVd4bMO0CfIZvBU78cBSOl8SnFP5s",
     "timestamp": 1576690440827
    }
   ]
  },
  "kernelspec": {
   "display_name": "Python 3 (ipykernel)",
   "language": "python",
   "name": "python3"
  },
  "language_info": {
   "codemirror_mode": {
    "name": "ipython",
    "version": 3
   },
   "file_extension": ".py",
   "mimetype": "text/x-python",
   "name": "python",
   "nbconvert_exporter": "python",
   "pygments_lexer": "ipython3",
   "version": "3.9.7"
  }
 },
 "nbformat": 4,
 "nbformat_minor": 4
}
